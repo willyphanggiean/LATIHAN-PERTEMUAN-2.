{
  "nbformat": 4,
  "nbformat_minor": 0,
  "metadata": {
    "colab": {
      "provenance": []
    },
    "kernelspec": {
      "name": "python3",
      "display_name": "Python 3"
    },
    "language_info": {
      "name": "python"
    }
  },
  "cells": [
    {
      "cell_type": "code",
      "execution_count": 16,
      "metadata": {
        "colab": {
          "base_uri": "https://localhost:8080/"
        },
        "id": "Qv1hVngOJHVp",
        "outputId": "c24d7b60-fc82-494a-946c-a984b1b93617"
      },
      "outputs": [
        {
          "output_type": "stream",
          "name": "stdout",
          "text": [
            "[1, 2, 3, 4, 5, 6]\n",
            "[5, 7, 9]\n"
          ]
        }
      ],
      "source": [
        "import numpy as np\n",
        "a = [1,2,3]\n",
        "b = [4,5,6]\n",
        "hasil = a + b\n",
        "print (hasil)\n",
        "def add (list_a,list_b):\n",
        "    result = []\n",
        "    for first, second in zip (list_a,list_b):\n",
        "      result.append(first+second)\n",
        "    return result\n",
        "print (add(a,b))\n",
        "\n",
        "\n",
        "\n",
        "\n",
        "\n"
      ]
    },
    {
      "cell_type": "code",
      "source": [
        "import numpy as np\n",
        "nilai_siswa = np.array([85,55,40,90])\n",
        "print (nilai_siswa[2])\n",
        "\n"
      ],
      "metadata": {
        "colab": {
          "base_uri": "https://localhost:8080/"
        },
        "id": "nby-7sAFMArD",
        "outputId": "8a0270e6-f8f9-41a1-c707-17bdbc0eea8f"
      },
      "execution_count": 17,
      "outputs": [
        {
          "output_type": "stream",
          "name": "stdout",
          "text": [
            "40\n"
          ]
        }
      ]
    },
    {
      "cell_type": "code",
      "source": [
        "def pertama(listku):\n",
        "  return listku[0]\n",
        "pertama([1,2,3])\n",
        "pertama([1,2,3,4,5,6,7,8,9])"
      ],
      "metadata": {
        "colab": {
          "base_uri": "https://localhost:8080/"
        },
        "id": "jBAJXNXqN3KS",
        "outputId": "148daa1c-7f8d-410d-b41a-67a9e59e5692"
      },
      "execution_count": 18,
      "outputs": [
        {
          "output_type": "execute_result",
          "data": {
            "text/plain": [
              "1"
            ]
          },
          "metadata": {},
          "execution_count": 18
        }
      ]
    },
    {
      "cell_type": "code",
      "source": [
        "print(np.__version__)\n",
        "\n"
      ],
      "metadata": {
        "colab": {
          "base_uri": "https://localhost:8080/"
        },
        "id": "suaX9_utOVfn",
        "outputId": "cc9221ce-7df3-4c16-cc96-05c94b548de9"
      },
      "execution_count": 8,
      "outputs": [
        {
          "output_type": "stream",
          "name": "stdout",
          "text": [
            "1.23.5\n"
          ]
        }
      ]
    },
    {
      "cell_type": "code",
      "source": [
        "##print(np.__version)\n"
      ],
      "metadata": {
        "id": "LjljK02JPDIh"
      },
      "execution_count": 12,
      "outputs": []
    },
    {
      "cell_type": "code",
      "source": [
        "print(\"Hello, World!\")\n",
        "print(\"Nama saya(willy)\")\n",
        "print(\"NIM saya(2022071024)\")"
      ],
      "metadata": {
        "colab": {
          "base_uri": "https://localhost:8080/"
        },
        "id": "ZJYXcjWUQfHY",
        "outputId": "7dc8d338-dc79-4cef-aeab-b545250f6283"
      },
      "execution_count": 15,
      "outputs": [
        {
          "output_type": "stream",
          "name": "stdout",
          "text": [
            "Hello, World!\n",
            "Nama saya(willy)\n",
            "NIM saya(2022071024)\n"
          ]
        }
      ]
    },
    {
      "cell_type": "code",
      "source": [
        "if 5>2:\n",
        "  print(\"Five is greater than two!\")"
      ],
      "metadata": {
        "colab": {
          "base_uri": "https://localhost:8080/"
        },
        "id": "Xot7gnhvS0tP",
        "outputId": "1c665c61-f87a-41f6-c99c-1154d39c2ea5"
      },
      "execution_count": 19,
      "outputs": [
        {
          "output_type": "stream",
          "name": "stdout",
          "text": [
            "Five is greater than two!\n"
          ]
        }
      ]
    },
    {
      "cell_type": "code",
      "source": [
        "\n",
        "x= 4\n",
        "x= \"Sally\"\n",
        "print(x)\n"
      ],
      "metadata": {
        "colab": {
          "base_uri": "https://localhost:8080/"
        },
        "id": "M6bpGAUjTQHV",
        "outputId": "3fade784-7b65-4299-8536-dd01c95d5a3b"
      },
      "execution_count": 26,
      "outputs": [
        {
          "output_type": "stream",
          "name": "stdout",
          "text": [
            "Sally\n"
          ]
        }
      ]
    },
    {
      "cell_type": "code",
      "source": [
        "def first(listku):\n",
        "  return listku[0]\n",
        "first([1,2,3])\n",
        "first([1,2,3,4,5,6,7,8,9])\n",
        "\n"
      ],
      "metadata": {
        "colab": {
          "base_uri": "https://localhost:8080/"
        },
        "id": "6KQrCcEiUfh9",
        "outputId": "2bd6a359-a1a8-46b8-80ba-c593aaf6c338"
      },
      "execution_count": 36,
      "outputs": [
        {
          "output_type": "execute_result",
          "data": {
            "text/plain": [
              "1"
            ]
          },
          "metadata": {},
          "execution_count": 36
        }
      ]
    },
    {
      "cell_type": "code",
      "source": [
        "def second(listku):\n",
        "    return listku[1]\n",
        "second([3,2,6,4,11])"
      ],
      "metadata": {
        "colab": {
          "base_uri": "https://localhost:8080/"
        },
        "id": "bw9WXs80XoRK",
        "outputId": "482830bd-a880-4f8e-abc6-a7300d7291eb"
      },
      "execution_count": 41,
      "outputs": [
        {
          "output_type": "execute_result",
          "data": {
            "text/plain": [
              "2"
            ]
          },
          "metadata": {},
          "execution_count": 41
        }
      ]
    },
    {
      "cell_type": "code",
      "source": [
        "def Last(listku):\n",
        "  return listku[len(listku)-1]\n",
        "Last([3,4,7,9])"
      ],
      "metadata": {
        "colab": {
          "base_uri": "https://localhost:8080/"
        },
        "id": "u4EhdB6WZgXJ",
        "outputId": "20a13815-2f0c-4ebf-bd3a-ccf29db35bc6"
      },
      "execution_count": 57,
      "outputs": [
        {
          "output_type": "execute_result",
          "data": {
            "text/plain": [
              "9"
            ]
          },
          "metadata": {},
          "execution_count": 57
        }
      ]
    },
    {
      "cell_type": "code",
      "source": [
        "def jumtotal(listku):\n",
        "  sum=0\n",
        "  for item in listku:\n",
        "    sum = sum+item\n",
        "  return sum\n",
        "\n",
        "jumtotal ([1,2,3,4,])"
      ],
      "metadata": {
        "colab": {
          "base_uri": "https://localhost:8080/"
        },
        "id": "NDZrHFq5anTB",
        "outputId": "91dd06ac-5aae-4391-d6e1-4472d8028614"
      },
      "execution_count": 64,
      "outputs": [
        {
          "output_type": "execute_result",
          "data": {
            "text/plain": [
              "10"
            ]
          },
          "metadata": {},
          "execution_count": 64
        }
      ]
    },
    {
      "cell_type": "code",
      "source": [
        "def kaltol(listku):\n",
        "  sum=1\n",
        "  for item in listku:\n",
        "    sum = sum*item\n",
        "  return sum\n",
        "\n",
        "kaltol ([1,2,3,4])"
      ],
      "metadata": {
        "colab": {
          "base_uri": "https://localhost:8080/"
        },
        "id": "wLP3iB7Gd5Rm",
        "outputId": "b2de7c72-058d-4e68-8976-58358a6c4063"
      },
      "execution_count": 71,
      "outputs": [
        {
          "output_type": "execute_result",
          "data": {
            "text/plain": [
              "24"
            ]
          },
          "metadata": {},
          "execution_count": 71
        }
      ]
    },
    {
      "cell_type": "code",
      "source": [
        "def kaltol(listku):\n",
        "  sum= 1\n",
        "  for row in listku:\n",
        "    for item in row:\n",
        "      sum= sum*item\n",
        "  return sum\n",
        "kaltol([[1,2,5],[3,4,7]])"
      ],
      "metadata": {
        "colab": {
          "base_uri": "https://localhost:8080/"
        },
        "id": "P_d63tEJeCel",
        "outputId": "1ac66121-2471-4689-ede9-0550c2ddf7f4"
      },
      "execution_count": 66,
      "outputs": [
        {
          "output_type": "execute_result",
          "data": {
            "text/plain": [
              "840"
            ]
          },
          "metadata": {},
          "execution_count": 66
        }
      ]
    },
    {
      "cell_type": "code",
      "source": [
        "def bagtol(listku):\n",
        "  sum=1\n",
        "  for item in listku:\n",
        "    sum = sum/item\n",
        "  return sum\n",
        "\n",
        "kaltol ([1,2,3,4])"
      ],
      "metadata": {
        "colab": {
          "base_uri": "https://localhost:8080/"
        },
        "id": "AT2rqQ5RimU5",
        "outputId": "07d32557-6f63-452f-81b8-4e00012cda41"
      },
      "execution_count": 73,
      "outputs": [
        {
          "output_type": "execute_result",
          "data": {
            "text/plain": [
              "24"
            ]
          },
          "metadata": {},
          "execution_count": 73
        }
      ]
    },
    {
      "cell_type": "code",
      "source": [
        "def bagtol(listku):\n",
        "  sum = 1\n",
        "  for row in listku:\n",
        "    for item in row:\n",
        "      sum = sum/item\n",
        "  return sum\n",
        "bagtol([[1,2,5],[3,4,7]])"
      ],
      "metadata": {
        "colab": {
          "base_uri": "https://localhost:8080/"
        },
        "id": "7FSd5DyYePOU",
        "outputId": "d3e28c04-c68e-43ce-be16-5de804dabe27"
      },
      "execution_count": 68,
      "outputs": [
        {
          "output_type": "execute_result",
          "data": {
            "text/plain": [
              "0.0011904761904761904"
            ]
          },
          "metadata": {},
          "execution_count": 68
        }
      ]
    }
  ]
}